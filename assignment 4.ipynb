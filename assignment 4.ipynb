{
 "cells": [
  {
   "cell_type": "markdown",
   "source": "# Assignment 4",
   "metadata": {
    "tags": [],
    "cell_id": "00002-230eea31-58d6-471a-a61d-60735ba2d76e",
    "deepnote_cell_type": "text-cell-h1"
   }
  },
  {
   "cell_type": "markdown",
   "source": "1.1&nbsp;Write&nbsp;a&nbsp;Python&nbsp;Program(with&nbsp;class&nbsp;concepts)&nbsp;to&nbsp;find&nbsp;the&nbsp;area&nbsp;of&nbsp;the&nbsp;triangle&nbsp;using&nbsp;the&nbsp;belowformula.area&nbsp;=&nbsp;(s*(s-a)*(s-b)*(s-c))&nbsp;**&nbsp;0.5Function&nbsp;to&nbsp;take&nbsp;the&nbsp;length&nbsp;of&nbsp;the&nbsp;sides&nbsp;of&nbsp;triangle&nbsp;from&nbsp;user&nbsp;should&nbsp;be&nbsp;defined&nbsp;in&nbsp;the&nbsp;parentclass&nbsp;and&nbsp;function&nbsp;to&nbsp;calculate&nbsp;the&nbsp;area&nbsp;should&nbsp;be&nbsp;defined&nbsp;in&nbsp;subclass.",
   "metadata": {
    "tags": [],
    "cell_id": "00001-14c03b3b-ab92-4508-a865-fd77465043f9",
    "deepnote_cell_type": "text-cell-p"
   }
  },
  {
   "cell_type": "code",
   "metadata": {
    "tags": [],
    "cell_id": "00005-3cc1560a-32a8-4766-a625-8997bc20015d",
    "deepnote_to_be_reexecuted": false,
    "source_hash": "234a27ae",
    "execution_start": 1623405826985,
    "execution_millis": 5,
    "deepnote_cell_type": "code"
   },
   "source": "# Class to initialize all the data values of Triangle\nclass sidesOfTriangle():\n    def __init__(self, s1,s2,s3):\n        self.s1 = s1\n        self.s2 = s2\n        self.s3 = s3\n        print(\"Length of all the sides of Triangle: \")\n        print(\"Side 1: {s1}, Side 2: {s2}, Side 3: {s3}\".format(s1 = self.s1, s2=self.s2,s3 = self.s3))\n        print()\n\n#Sub class to calculate the area of triangle\nclass areaOfTriangle(sidesOfTriangle):\n    #initializing the values using parent class\n    def __init__(self, s1,s2,s3):\n        super(areaOfTriangle,self).__init__(s1,s2,s3)\n        print(\"Getiing all the values into the function\")\n    #method to calculate the area of triangle\n    def tArea(self):\n        s = (self.s1 + self.s2 + self.s3)/2\n        return (s*(s-self.s1)*(s-self.s2)*(s-self.s3))**0.5\n            \n\n# object of class\ninstance = areaOfTriangle(3,4,5)\nprint (\"Area = \" + str(instance.tArea()) )",
   "execution_count": null,
   "outputs": [
    {
     "name": "stdout",
     "text": "Length of all the sides of Triangle: \nSide 1: 3, Side 2: 4, Side 3: 5\n\nGetiing all the values into the function\nArea = 6.0\n",
     "output_type": "stream"
    }
   ]
  },
  {
   "cell_type": "markdown",
   "source": "1.2 Write a function filter_long_words() that takes a list of words and an integer n and returns\nthe list of words that are longer than n.",
   "metadata": {
    "tags": [],
    "cell_id": "00005-8339f3ab-4da8-4063-afbe-0104e9b53a45",
    "deepnote_cell_type": "text-cell-p"
   }
  },
  {
   "cell_type": "code",
   "metadata": {
    "tags": [],
    "cell_id": "00007-146317cc-f08f-4868-959e-bfa3d587b706",
    "deepnote_to_be_reexecuted": false,
    "source_hash": "baa65191",
    "execution_start": 1623407729890,
    "execution_millis": 6,
    "deepnote_cell_type": "code"
   },
   "source": "def filter_long_words(words, n):\n    return [ x for x in words if len(x) > n]\n\n\nprint (filter_long_words(['test', 'not', 'this should'], 5))",
   "execution_count": 2,
   "outputs": [
    {
     "name": "stdout",
     "text": "['this should']\n",
     "output_type": "stream"
    }
   ]
  },
  {
   "cell_type": "markdown",
   "source": "2.1 Write a Python program using function concept that maps list of words into a list of integers\nrepresenting the lengths of the corresponding words.\nHint: If a list [ ab,cde,erty] is passed on to the python function output should come as [2,3,4]\nHere 2,3 and 4 are the lengths of the words in the list.",
   "metadata": {
    "tags": [],
    "cell_id": "00006-97215f32-3c56-436f-9f78-5c1253097a02",
    "deepnote_cell_type": "text-cell-p"
   }
  },
  {
   "cell_type": "code",
   "metadata": {
    "tags": [],
    "cell_id": "00009-d262fb1e-b237-4b08-82a0-6e82d2b5eab3",
    "deepnote_to_be_reexecuted": false,
    "source_hash": "c630f584",
    "execution_start": 1623405963538,
    "execution_millis": 5,
    "deepnote_cell_type": "code"
   },
   "source": "def getValues(list): return [len(x) for x in list]\nlist1 = [\"ab\",\"cde\",\"erty\"]\nprint(getValues(list1))",
   "execution_count": null,
   "outputs": [
    {
     "name": "stdout",
     "text": "[2, 3, 4]\n",
     "output_type": "stream"
    }
   ]
  },
  {
   "cell_type": "markdown",
   "source": "2.2 Write a Python function which takes a character (i.e. a string of length 1) and returns True if\nit is a vowel, False otherwise.",
   "metadata": {
    "tags": [],
    "cell_id": "00007-6c7d0c8f-2584-4dbb-9a5c-9148bbb27054",
    "deepnote_cell_type": "text-cell-p"
   }
  },
  {
   "cell_type": "code",
   "metadata": {
    "tags": [],
    "cell_id": "00011-66a72549-374d-4bd5-b7a2-19d9dffcbbf3",
    "deepnote_to_be_reexecuted": false,
    "source_hash": "b6646584",
    "execution_start": 1623405882519,
    "execution_millis": 13,
    "deepnote_cell_type": "code"
   },
   "source": "def getChar(ch):\n    vowels = ['a','e','i','o','u']\n    if ch in vowels: return True\n    else: return False\nprint(getChar(\"a\"))\nprint(getChar(\"b\"))",
   "execution_count": null,
   "outputs": [
    {
     "name": "stdout",
     "text": "True\nFalse\n",
     "output_type": "stream"
    }
   ]
  },
  {
   "cell_type": "markdown",
   "source": "<a style='text-decoration:none;line-height:16px;display:flex;color:#5B5B62;padding:10px;justify-content:end;' href='https://deepnote.com?utm_source=created-in-deepnote-cell&projectId=f9b6acf4-eb2e-42e4-a8fc-a559970e0715' target=\"_blank\">\n<img alt='Created in deepnote.com' style='display:inline;max-height:16px;margin:0px;margin-right:7.5px;' src='data:image/svg+xml;base64,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' > </img>\nCreated in <span style='font-weight:600;margin-left:4px;'>Deepnote</span></a>",
   "metadata": {
    "tags": [],
    "created_in_deepnote_cell": true,
    "deepnote_cell_type": "markdown"
   }
  }
 ],
 "nbformat": 4,
 "nbformat_minor": 2,
 "metadata": {
  "orig_nbformat": 2,
  "deepnote": {
   "is_reactive": false
  },
  "deepnote_notebook_id": "37542710-6927-4596-850c-68fb753719e4",
  "deepnote_execution_queue": []
 }
}