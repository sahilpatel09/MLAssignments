{
  "nbformat": 4,
  "nbformat_minor": 0,
  "metadata": {
    "colab": {
      "name": "Python Assignment 2.ipynb",
      "provenance": []
    },
    "kernelspec": {
      "name": "python3",
      "display_name": "Python 3"
    }
  },
  "cells": [
    {
      "cell_type": "markdown",
      "metadata": {
        "id": "V6yRpaV3yMDp"
      },
      "source": [
        "# Python Assignment 2\n",
        "\n",
        "### **Question 1:**\n",
        "Create the below pattern using nested for loop in Python."
      ]
    },
    {
      "cell_type": "code",
      "metadata": {
        "id": "4vSdIhJ2xzxu",
        "colab": {
          "base_uri": "https://localhost:8080/",
          "height": 201
        },
        "outputId": "90532b91-12e6-4866-957d-3d9d0aec9960"
      },
      "source": [
        "for x in range(0,5):\n",
        "  for y in range(0,x+1):\n",
        "    print(\"*\", end=\"\")\n",
        "  print()\n",
        "\n",
        "for x in range(5,0,-1):\n",
        "  for y in range(0,x-1):\n",
        "    print(\"*\", end=\"\")\n",
        "  print()\n"
      ],
      "execution_count": null,
      "outputs": [
        {
          "output_type": "stream",
          "text": [
            "*\n",
            "**\n",
            "***\n",
            "****\n",
            "*****\n",
            "****\n",
            "***\n",
            "**\n",
            "*\n",
            "\n"
          ],
          "name": "stdout"
        }
      ]
    },
    {
      "cell_type": "markdown",
      "metadata": {
        "id": "fWjEsR_a1XXW"
      },
      "source": [
        "### **Question 2:**\n",
        "\n",
        "2. Write a Python program to reverse a word after accepting the input from the user.\n",
        "\n",
        "Input word: ineuron<br>\n",
        "Output: norueni"
      ]
    },
    {
      "cell_type": "code",
      "metadata": {
        "id": "BeqxtU1izihV",
        "colab": {
          "base_uri": "https://localhost:8080/",
          "height": 35
        },
        "outputId": "d4f1068e-379c-4597-cb9e-b3ef0491f662"
      },
      "source": [
        "word = 'ineuron'\n",
        "for x in range(len(word),0,-1):\n",
        "  print(word[x-1], end=\"\")\n"
      ],
      "execution_count": null,
      "outputs": [
        {
          "output_type": "stream",
          "text": [
            "norueni"
          ],
          "name": "stdout"
        }
      ]
    },
    {
      "cell_type": "code",
      "metadata": {
        "id": "S-Oh_nzC1zNC"
      },
      "source": [
        ""
      ],
      "execution_count": null,
      "outputs": []
    }
  ]
}